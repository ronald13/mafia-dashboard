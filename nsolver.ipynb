{
 "cells": [
  {
   "cell_type": "code",
   "execution_count": 168,
   "outputs": [],
   "source": [
    "from dash import Dash\n",
    "import pandas as pd\n",
    "import json\n",
    "from pandas import json_normalize\n",
    "import polars as pl\n",
    "from loguru import logger\n",
    "import numpy as np\n",
    "import plotly.graph_objects as go"
   ],
   "metadata": {
    "collapsed": false,
    "ExecuteTime": {
     "end_time": "2023-09-18T09:15:38.875836189Z",
     "start_time": "2023-09-18T09:15:38.829425228Z"
    }
   },
   "id": "3306103ba9f8f076"
  },
  {
   "cell_type": "code",
   "execution_count": null,
   "outputs": [],
   "source": [],
   "metadata": {
    "collapsed": false
   },
   "id": "c11d97de0afd58e"
  },
  {
   "cell_type": "code",
   "execution_count": 12,
   "outputs": [],
   "source": [
    "GAME_NUMBER = 14\n"
   ],
   "metadata": {
    "collapsed": false,
    "ExecuteTime": {
     "end_time": "2023-09-15T11:02:01.191790605Z",
     "start_time": "2023-09-15T11:02:01.181704481Z"
    }
   },
   "id": "daa70c72268fe847"
  },
  {
   "cell_type": "code",
   "execution_count": 395,
   "outputs": [],
   "source": [
    "def merge_two_dicts(x, y):\n",
    "    z = x.copy()   # start with keys and values of x\n",
    "    z.update(y)    # modifies z with keys and values of y\n",
    "    return z\n",
    "def count_number(list, num):\n",
    "    \"\"\"\n",
    "    counts the number of values in list from 1 to num\n",
    "    \"\"\"\n",
    "    new_l=[]\n",
    "    for i in range(1, num+1):\n",
    "        list.count(i)\n",
    "        new_l.append(list.count(i))\n",
    "    return new_l\n",
    "\n",
    "def df_firstshot_with_hit_rate(df, all_games_number):\n",
    "    \"\"\"\n",
    "    Сalculate the shooting rate according to the FIIM formula\n",
    "    The value B = 0.4 * number of all games in the tournament and rounded to the nearest integer.\n",
    "    \"\"\"\n",
    "\n",
    "    B = round(0.4 * all_games_number)\n",
    "    if df['number_shot'] <= B:\n",
    "        df['Ci'] = round(((df['number_shot'] * 0.4 / B) * df['shot_and_lose']), 2)\n",
    "    else:\n",
    "        df['Ci'] = round((0.4 * df['shot_and_lose']), 2)\n",
    "    return df\n",
    "\n",
    "\n",
    "class Mafia(object):\n",
    "\n",
    "    def __init__(self, games, teams, first_shot, referee, GAME_NUMBER=14):\n",
    "        self.games = games\n",
    "        self.teams = teams\n",
    "        self.referee = referee\n",
    "        self.first_shot = first_shot\n",
    "\n",
    "        self.games_number = GAME_NUMBER\n",
    "        self.font_family = \"Open Sans\"\n",
    "        self.font_size = 14\n",
    "        self.role = self.get_role()\n",
    "        self.fulldata = self.get_info_about_all_games()\n",
    "\n",
    "    def get_role(self):\n",
    "        role = pd.DataFrame( [{'role_id':1,'role_name':'Мирный'}, {'role_id':2,'role_name':'Мафия'}, {'role_id':3,'role_name':'Дон'}, {'role_id':4,'role_name':'Шериф'} ])\n",
    "        return role\n",
    "\n",
    "    def teams_list(self):\n",
    "        return self.teams['team_name'].unique()\n",
    "\n",
    "    def get_all_players(self):\n",
    "        \"\"\"\n",
    "        create df with info about players with player_name\n",
    "        \"\"\"\n",
    "        df_players = self.games[['player_id', 'player_name']].drop_duplicates()\n",
    "        df_players = df_players.merge(self.teams[['player_id', 'team_id', 'team_name']], how='left', on='player_id')\n",
    "        return df_players\n",
    "\n",
    "    def get_info_about_all_games(self):\n",
    "        '''\n",
    "        get the final table (full_data) which has the information for all charts on the dashboard\n",
    "        As a result we get dataframe with 10 * all_games_number rows.\n",
    "        '''\n",
    "        full_data = self.games\n",
    "\n",
    "        full_data = pd.merge(full_data, self.get_role(), how=\"left\", on=\"role_id\")\n",
    "        full_data = pd.merge(full_data, self.get_all_players()[['player_id', 'team_id', 'team_name']], how=\"left\",\n",
    "                             on=\"player_id\")\n",
    "        full_data = full_data.rename(\n",
    "            columns={'table': 'table_number', 'number': 'round_number', 'boxNumber': 'box_number',\n",
    "                     'PlayerName': 'player_name', 'role_name_y': 'role_name', 'WinnerName': 'winner'})\n",
    "\n",
    "        # change type score to float\n",
    "        full_data['round_number'] = full_data['round_number'].astype('int')\n",
    "        full_data['table_number'] = full_data['table_number'].astype('int')\n",
    "        full_data['score'] = full_data['score'].astype('float')\n",
    "        full_data['score'] = full_data['score'].astype('float')\n",
    "        full_data['score'] = full_data['score'].astype('float')\n",
    "        full_data['score_dop'] = full_data['score_dop'].astype('float')\n",
    "        full_data['score_minus'] = full_data['score_minus'].astype('float')\n",
    "        logger.info('Full data table successfully created!')\n",
    "        return full_data\n",
    "\n",
    "    def get_table_distribution(self):\n",
    "        \"\"\"\n",
    "        create df with info about distribution of players on the tables. df is used for spider chart\n",
    "        \"\"\"\n",
    "        table_distribution =  self.fulldata.groupby(['team_name', 'player_name'])['table_number'].apply(list).reset_index()\n",
    "        table_distribution['table_number_count'] = table_distribution['table_number'].apply(count_number, args=(int(self.games.shape[0] / self.games_number),))\n",
    "        return table_distribution\n",
    "\n",
    "    def get_box_distribution(self):\n",
    "        \"\"\"\n",
    "        create df with info about distribution of players on the boxes. df is used for spider chart (box)\n",
    "        \"\"\"\n",
    "        box_distribution = self.fulldata.groupby(['team_name', 'player_name'])['box_number'].apply(list).reset_index()\n",
    "        box_distribution['box_number_count'] = box_distribution['box_number'].apply(count_number, args=(10,))\n",
    "        return box_distribution\n",
    "\n",
    "    def make_firstshot_table(self):\n",
    "        \"\"\"\n",
    "        create information about first shot and calculate hit rate for every game\n",
    "        \"\"\"\n",
    "        # logger.info('Calculating firstshot table...')\n",
    "        first_shot = self.first_shot\n",
    "\n",
    "        col = ['table', 'number', 'winner_id', 'gamefirstshot.player_id',\n",
    "               'gamefirstshot.boxNumber', 'gamefirstshot.score']\n",
    "        firstshot_df = first_shot[col].rename(\n",
    "            columns={'number': 'game_number', 'winner_id': 'who_win', 'gamefirstshot.player_id': 'player_id',\n",
    "                     'gamefirstshot.boxNumber': 'boxNumber', 'gamefirstshot.score': 'score'})\n",
    "\n",
    "        firstshot_df['score'] = firstshot_df['score'].astype('float')\n",
    "\n",
    "        firstshot_df = pd.merge(firstshot_df, self.get_all_players()[['player_id', 'player_name', \"team_name\"]],\n",
    "                                how=\"left\",\n",
    "                                on=\"player_id\").rename(columns={'score': 'score_firstshot'})\n",
    "\n",
    "\n",
    "        number_first_shot = firstshot_df.groupby(['player_name', \"team_name\"]).agg(\n",
    "            {'score_firstshot': 'sum', 'player_id': 'count', 'who_win': 'sum'}).sort_values(by='player_id',\n",
    "                                                                                            ascending=False).reset_index().rename(\n",
    "            columns={'player_id': 'number_shot', 'who_win': 'shot_and_lose'})\n",
    "        number_first_shot = number_first_shot.apply(df_firstshot_with_hit_rate, axis=1, args=(14,))\n",
    "        logger.info('First-Shot table successfully created!')\n",
    "        return number_first_shot\n",
    "    def get_total_score_table(self):\n",
    "        \"\"\"\n",
    "        the final table that can be used to display the results\n",
    "        \"\"\"\n",
    "\n",
    "        total_result_players = self.fulldata.groupby(['team_name', 'player_name']).agg({'score': 'sum', 'score_dop': 'sum', 'score_minus': 'sum'}).reset_index()\n",
    "        # merge with first short\n",
    "        total_result_players = pd.merge(total_result_players, self.make_firstshot_table()[['score_firstshot', 'Ci',  'player_name']], how=\"left\", on=\"player_name\")\n",
    "\n",
    "        total_result_players['score_firstshot'] = total_result_players['score_firstshot'].fillna(0)\n",
    "        total_result_players['Ci'] = total_result_players['Ci'].fillna(0)\n",
    "\n",
    "        total_result_players['total']  = total_result_players['score'] + total_result_players['score_dop'] + total_result_players['score_firstshot'] + total_result_players['score_minus'] + total_result_players['Ci']\n",
    "        total_result = total_result_players.sort_values(by='total', ascending=False)\n",
    "        return total_result\n",
    "\n",
    "    def team_metrics(self):\n",
    "        number_shots = self.make_firstshot_table().groupby('team_name').agg({'number_shot': 'sum'}).reset_index()\n",
    "        agregate_total_score_table = self.get_total_score_table().groupby('team_name').agg(\n",
    "            {'score': 'sum', 'score_dop': 'sum', 'score_minus': 'sum', 'score_firstshot': 'sum', 'Ci': 'sum'})\n",
    "        result = pd.merge(agregate_total_score_table, number_shots, how='left', on='team_name')\n",
    "        result['number_shot'] = result['number_shot'].fillna(0)\n",
    "        return result\n",
    "    def team_winners(self):\n",
    "        \"\"\"\n",
    "        get the top three winners in the team standings competition\n",
    "        \"\"\"\n",
    "        # logger.info('Calculating table with all team winners...')\n",
    "        team_winners = self.get_total_score_table().groupby('team_name')['total'].sum().reset_index().sort_values(by='total', ascending=False)['team_name'].iloc[0:3].to_list()\n",
    "        return team_winners\n",
    "\n",
    "    def personal_winners(self):\n",
    "        \"\"\"\n",
    "        get the top three winners in the individual competition\n",
    "        \"\"\"\n",
    "        personal_winners = self.get_total_score_table()['player_name'].iloc[0:3].to_list()\n",
    "        logger.info('Personal winners successfully created! - Type -> list')\n",
    "        return personal_winners\n",
    "    def win_by_round(self):\n",
    "        \"\"\"\n",
    "        get a table with information about the winnings of the team in the context of the round\n",
    "        \"\"\"\n",
    "        df_temp = self.get_info_about_all_games().groupby(['team_name', 'round_number'])[\n",
    "            'score', 'score_dop', 'score_minus'].sum().reset_index()\n",
    "        df_temp['cum_score'] = df_temp.groupby('team_name')['score'].cumsum()\n",
    "        df_temp['cum_score_dop'] = df_temp.groupby('team_name')['score_dop'].cumsum()\n",
    "        df_temp['cum_score_minus'] = df_temp.groupby('team_name')['score_minus'].cumsum()\n",
    "        df_temp['total_score'] = df_temp['cum_score'] + df_temp['cum_score_dop'] + df_temp['cum_score_minus']\n",
    "        result = pd.pivot_table(df_temp,\n",
    "                                index='team_name',\n",
    "                                columns='round_number',\n",
    "                                values='total_score').reset_index()\n",
    "        logger.info('Win_by_round table successfully created! - Type -> dataframe')\n",
    "        return result\n",
    "    def wind_by_round_referee(self):\n",
    "        \"\"\"\n",
    "        get a dataframe with information about the team's win on each table (each referee)\n",
    "        result: double list\n",
    "        \"\"\"\n",
    "        logger.info('Calculation wind_by_round_referee')\n",
    "\n",
    "        win_by_round=self.fulldata.groupby(['team_name', 'round_number', 'table_number'])['score'].sum().reset_index()\n",
    "        win_by_round = win_by_round.groupby(['team_name']).apply(lambda x:pd.pivot_table(x, values=\"score\", index=\"table_number\", columns=\"round_number\", aggfunc='mean').fillna(0).values).reset_index(name='win_list')\n",
    "\n",
    "        return  win_by_round\n",
    "    def referee_score(self):\n",
    "        \"\"\"\n",
    "        the number of  score awarded by the referee\n",
    "        \"\"\"\n",
    "        referee_score = self.get_info_about_all_games().groupby('table_number').agg({'score_dop':'sum', 'score_minus':'sum'}).reset_index()\n",
    "        referee_score = pd.merge(referee_score, self.referee[['table_number', 'referee_name']], how=\"left\", on=\"table_number\")\n",
    "\n",
    "        return referee_score\n",
    "    def win_lose(self):\n",
    "        \"\"\"\n",
    "        percentage of mafia and civilian wins\n",
    "        result: [mafia,citizen]\n",
    "        \"\"\"\n",
    "        win_lose = self.get_info_about_all_games()['winner'].value_counts(normalize=True).round(2).reset_index()['winner'].to_list()\n",
    "        return win_lose\n",
    "\n",
    "    def game_results(self, normalize=True):\n",
    "        \"\"\"\n",
    "\n",
    "        :param normalize:\n",
    "        :return:\n",
    "        \"\"\"\n",
    "        df = self.games[['game_id', 'table', 'winner_id', 'WinnerName']].rename(\n",
    "            columns={'table': 'table_number', 'WinnerName': 'winner'})\n",
    "        df = df.groupby('table_number')['winner'].value_counts(normalize=normalize).round(2).reset_index(name=\"value\")\n",
    "        df = df.groupby('table_number')['value'].apply(list).reset_index()\n",
    "        return df\n",
    "    def death_leader(self):\n",
    "        \"\"\"\n",
    "        most killed player: [nick, number]\n",
    "        \"\"\"\n",
    "        return [self.make_firstshot_table().iloc[0]['player_name'], self.make_firstshot_table().iloc[0]['number_shot']]\n",
    "\n",
    "    def full_best_score(self):\n",
    "        return self.make_firstshot_table().loc[self.make_firstshot_table()['score_firstshot'] == 0.4][\n",
    "            'player_name'].to_list()\n",
    "    def get_team_name(self, player_name):\n",
    "        if player_name in self.get_all_players()['player_name'].values:\n",
    "            return self.get_all_players().loc[self.get_all_players()['player_name'] == player_name]['team_name'].values[0]\n",
    "        else:\n",
    "            return 'Игрок не принимал участие в турнире'\n",
    "    def save_df(self,year):\n",
    "        \"\"\"\n",
    "        saving all df for file\n",
    "        \"\"\"\n",
    "        self.get_role().to_csv(f'year/role.csv')\n",
    "        self.get_all_players().to_csv(f'year/players.csv')"
   ],
   "metadata": {
    "collapsed": false,
    "ExecuteTime": {
     "end_time": "2023-09-18T13:51:27.962364701Z",
     "start_time": "2023-09-18T13:51:27.942148857Z"
    }
   },
   "id": "initial_id"
  },
  {
   "cell_type": "code",
   "execution_count": 395,
   "outputs": [],
   "source": [],
   "metadata": {
    "collapsed": false,
    "ExecuteTime": {
     "end_time": "2023-09-18T13:51:30.685381223Z",
     "start_time": "2023-09-18T13:51:30.681715593Z"
    }
   },
   "id": "dca2656af23b5985"
  },
  {
   "cell_type": "code",
   "execution_count": 396,
   "outputs": [],
   "source": [
    "def get_data(year, games_number=GAME_NUMBER):\n",
    "    current_dir = f\"data/{year}/\"\n",
    "    with open(current_dir + 'teams.json') as f:\n",
    "        teams = pd.json_normalize(data=json.load(f),\n",
    "                                  record_path='tplayer',\n",
    "                                  meta=['name']\n",
    "                                  )\n",
    "    teams.rename(columns={'name': 'team_name'}, inplace=True)\n",
    "\n",
    "    with open(current_dir + 'tstata.json') as f:\n",
    "        games = pd.json_normalize(data=json.load(f),\n",
    "                                  record_path=['gameplayer'],\n",
    "                                  meta=['date', 'table', 'number', 'winner_id', 'WinnerName']\n",
    "                                  )\n",
    "    games.rename(columns={'boxNumber': 'box_number',\n",
    "                          'PlayerName': 'player_name'},\n",
    "                 inplace=True)\n",
    "    with open(current_dir + 'tstata.json') as f:\n",
    "        firstshot = pd.json_normalize(data=json.load(f))\n",
    "\n",
    "    referee = pd.read_csv(current_dir + 'referee.csv')\n",
    "\n",
    "    logger.info(\"Data has been loaded\")\n",
    "    return games, teams, firstshot, referee\n"
   ],
   "metadata": {
    "collapsed": false,
    "ExecuteTime": {
     "end_time": "2023-09-18T13:51:31.121740370Z",
     "start_time": "2023-09-18T13:51:31.118999081Z"
    }
   },
   "id": "d62ec3cae1405fe5"
  },
  {
   "cell_type": "code",
   "execution_count": 371,
   "outputs": [
    {
     "name": "stderr",
     "output_type": "stream",
     "text": [
      "\u001B[32m2023-09-18 14:31:02.800\u001B[0m | \u001B[1mINFO    \u001B[0m | \u001B[36m__main__\u001B[0m:\u001B[36mget_data\u001B[0m:\u001B[36m23\u001B[0m - \u001B[1mData has been loaded\u001B[0m\n",
      "\u001B[32m2023-09-18 14:31:02.811\u001B[0m | \u001B[1mINFO    \u001B[0m | \u001B[36m__main__\u001B[0m:\u001B[36mget_info_about_all_games\u001B[0m:\u001B[36m80\u001B[0m - \u001B[1mFull data table successfully created!\u001B[0m\n"
     ]
    }
   ],
   "source": [
    "kchb = Mafia(*get_data(2023, GAME_NUMBER))"
   ],
   "metadata": {
    "collapsed": false,
    "ExecuteTime": {
     "end_time": "2023-09-18T12:31:02.815007350Z",
     "start_time": "2023-09-18T12:31:02.780203319Z"
    }
   },
   "id": "b66678ec2fb59f61"
  },
  {
   "cell_type": "code",
   "execution_count": 477,
   "outputs": [
    {
     "name": "stderr",
     "output_type": "stream",
     "text": [
      "\u001B[32m2023-09-19 08:54:46.194\u001B[0m | \u001B[1mINFO    \u001B[0m | \u001B[36m__main__\u001B[0m:\u001B[36mget_info_about_all_games\u001B[0m:\u001B[36m80\u001B[0m - \u001B[1mFull data table successfully created!\u001B[0m\n"
     ]
    },
    {
     "data": {
      "text/plain": "         id  game_id  box_number  player_id  role_id  score  score_dop  \\\n0     29747     2996           1        306        2    1.0        0.2   \n1     29748     2996           2        368        1    0.0        0.0   \n2     29749     2996           3        364        2    1.0        0.2   \n3     29750     2996           4        378        1    0.0        0.0   \n4     29751     2996           5        394        3    1.0        0.3   \n...     ...      ...         ...        ...      ...    ...        ...   \n1115  30462     3067           6        370        2    0.0        0.0   \n1116  30463     3067           7        159        1    1.0        0.0   \n1117  30464     3067           8        383        1    1.0        0.1   \n1118  30465     3067           9        224        1    1.0        0.2   \n1119  30466     3067          10        174        2    0.0        0.0   \n\n      score_minus  best                   created_at  \\\n0             0.0     0  2023-08-15T13:24:47.000000Z   \n1             0.0     0  2023-08-15T13:24:47.000000Z   \n2             0.0     0  2023-08-15T13:24:47.000000Z   \n3             0.0     0  2023-08-15T13:24:47.000000Z   \n4             0.0     1  2023-08-15T13:24:47.000000Z   \n...           ...   ...                          ...   \n1115          0.0     0  2023-08-15T13:24:56.000000Z   \n1116          0.0     0  2023-08-15T13:24:56.000000Z   \n1117          0.0     0  2023-08-15T13:24:56.000000Z   \n1118          0.0     0  2023-08-15T13:24:56.000000Z   \n1119          0.0     0  2023-08-15T13:24:56.000000Z   \n\n                       updated_at  player_name        date  table_number  \\\n0     2023-08-19T10:33:10.000000Z      Спонжик  2023-08-19             1   \n1     2023-08-15T13:24:47.000000Z  Кастор Трой  2023-08-19             1   \n2     2023-08-19T10:33:10.000000Z           Ад  2023-08-19             1   \n3     2023-08-15T13:24:47.000000Z         Волк  2023-08-19             1   \n4     2023-08-19T10:33:10.000000Z       Гаджет  2023-08-19             1   \n...                           ...          ...         ...           ...   \n1115  2023-08-19T21:52:45.000000Z        Милан  2023-08-19             8   \n1116  2023-08-19T21:52:45.000000Z       Бестия  2023-08-19             8   \n1117  2023-08-19T21:52:45.000000Z         Хрум  2023-08-19             8   \n1118  2023-08-19T21:52:45.000000Z     Андерсен  2023-08-19             8   \n1119  2023-08-19T21:52:45.000000Z    Yesterday  2023-08-19             8   \n\n      round_number winner_id         winner role_name  team_id  \\\n0                1         1   Победа мафии     Мафия      126   \n1                1         1   Победа мафии    Мирный      143   \n2                1         1   Победа мафии     Мафия      124   \n3                1         1   Победа мафии    Мирный      121   \n4                1         1   Победа мафии       Дон      135   \n...            ...       ...            ...       ...      ...   \n1115             9         0  Победа мирных     Мафия      116   \n1116             9         0  Победа мирных    Мирный      135   \n1117             9         0  Победа мирных    Мирный      127   \n1118             9         0  Победа мирных    Мирный      129   \n1119             9         0  Победа мирных     Мафия      136   \n\n                    team_name  \n0                 Заи-бусинки  \n1         Dangerous & Dragons  \n2                   Дети папы  \n3     Биполярные Ака личности  \n4       Нефтебаза в Чернигове  \n...                       ...  \n1115                Lady Noir  \n1116    Нефтебаза в Чернигове  \n1117                     ИМБА  \n1118   Компот из,сука,фруктов  \n1119            Сочная лисица  \n\n[1120 rows x 20 columns]",
      "text/html": "<div>\n<style scoped>\n    .dataframe tbody tr th:only-of-type {\n        vertical-align: middle;\n    }\n\n    .dataframe tbody tr th {\n        vertical-align: top;\n    }\n\n    .dataframe thead th {\n        text-align: right;\n    }\n</style>\n<table border=\"1\" class=\"dataframe\">\n  <thead>\n    <tr style=\"text-align: right;\">\n      <th></th>\n      <th>id</th>\n      <th>game_id</th>\n      <th>box_number</th>\n      <th>player_id</th>\n      <th>role_id</th>\n      <th>score</th>\n      <th>score_dop</th>\n      <th>score_minus</th>\n      <th>best</th>\n      <th>created_at</th>\n      <th>updated_at</th>\n      <th>player_name</th>\n      <th>date</th>\n      <th>table_number</th>\n      <th>round_number</th>\n      <th>winner_id</th>\n      <th>winner</th>\n      <th>role_name</th>\n      <th>team_id</th>\n      <th>team_name</th>\n    </tr>\n  </thead>\n  <tbody>\n    <tr>\n      <th>0</th>\n      <td>29747</td>\n      <td>2996</td>\n      <td>1</td>\n      <td>306</td>\n      <td>2</td>\n      <td>1.0</td>\n      <td>0.2</td>\n      <td>0.0</td>\n      <td>0</td>\n      <td>2023-08-15T13:24:47.000000Z</td>\n      <td>2023-08-19T10:33:10.000000Z</td>\n      <td>Спонжик</td>\n      <td>2023-08-19</td>\n      <td>1</td>\n      <td>1</td>\n      <td>1</td>\n      <td>Победа мафии</td>\n      <td>Мафия</td>\n      <td>126</td>\n      <td>Заи-бусинки</td>\n    </tr>\n    <tr>\n      <th>1</th>\n      <td>29748</td>\n      <td>2996</td>\n      <td>2</td>\n      <td>368</td>\n      <td>1</td>\n      <td>0.0</td>\n      <td>0.0</td>\n      <td>0.0</td>\n      <td>0</td>\n      <td>2023-08-15T13:24:47.000000Z</td>\n      <td>2023-08-15T13:24:47.000000Z</td>\n      <td>Кастор Трой</td>\n      <td>2023-08-19</td>\n      <td>1</td>\n      <td>1</td>\n      <td>1</td>\n      <td>Победа мафии</td>\n      <td>Мирный</td>\n      <td>143</td>\n      <td>Dangerous &amp; Dragons</td>\n    </tr>\n    <tr>\n      <th>2</th>\n      <td>29749</td>\n      <td>2996</td>\n      <td>3</td>\n      <td>364</td>\n      <td>2</td>\n      <td>1.0</td>\n      <td>0.2</td>\n      <td>0.0</td>\n      <td>0</td>\n      <td>2023-08-15T13:24:47.000000Z</td>\n      <td>2023-08-19T10:33:10.000000Z</td>\n      <td>Ад</td>\n      <td>2023-08-19</td>\n      <td>1</td>\n      <td>1</td>\n      <td>1</td>\n      <td>Победа мафии</td>\n      <td>Мафия</td>\n      <td>124</td>\n      <td>Дети папы</td>\n    </tr>\n    <tr>\n      <th>3</th>\n      <td>29750</td>\n      <td>2996</td>\n      <td>4</td>\n      <td>378</td>\n      <td>1</td>\n      <td>0.0</td>\n      <td>0.0</td>\n      <td>0.0</td>\n      <td>0</td>\n      <td>2023-08-15T13:24:47.000000Z</td>\n      <td>2023-08-15T13:24:47.000000Z</td>\n      <td>Волк</td>\n      <td>2023-08-19</td>\n      <td>1</td>\n      <td>1</td>\n      <td>1</td>\n      <td>Победа мафии</td>\n      <td>Мирный</td>\n      <td>121</td>\n      <td>Биполярные Ака личности</td>\n    </tr>\n    <tr>\n      <th>4</th>\n      <td>29751</td>\n      <td>2996</td>\n      <td>5</td>\n      <td>394</td>\n      <td>3</td>\n      <td>1.0</td>\n      <td>0.3</td>\n      <td>0.0</td>\n      <td>1</td>\n      <td>2023-08-15T13:24:47.000000Z</td>\n      <td>2023-08-19T10:33:10.000000Z</td>\n      <td>Гаджет</td>\n      <td>2023-08-19</td>\n      <td>1</td>\n      <td>1</td>\n      <td>1</td>\n      <td>Победа мафии</td>\n      <td>Дон</td>\n      <td>135</td>\n      <td>Нефтебаза в Чернигове</td>\n    </tr>\n    <tr>\n      <th>...</th>\n      <td>...</td>\n      <td>...</td>\n      <td>...</td>\n      <td>...</td>\n      <td>...</td>\n      <td>...</td>\n      <td>...</td>\n      <td>...</td>\n      <td>...</td>\n      <td>...</td>\n      <td>...</td>\n      <td>...</td>\n      <td>...</td>\n      <td>...</td>\n      <td>...</td>\n      <td>...</td>\n      <td>...</td>\n      <td>...</td>\n      <td>...</td>\n      <td>...</td>\n    </tr>\n    <tr>\n      <th>1115</th>\n      <td>30462</td>\n      <td>3067</td>\n      <td>6</td>\n      <td>370</td>\n      <td>2</td>\n      <td>0.0</td>\n      <td>0.0</td>\n      <td>0.0</td>\n      <td>0</td>\n      <td>2023-08-15T13:24:56.000000Z</td>\n      <td>2023-08-19T21:52:45.000000Z</td>\n      <td>Милан</td>\n      <td>2023-08-19</td>\n      <td>8</td>\n      <td>9</td>\n      <td>0</td>\n      <td>Победа мирных</td>\n      <td>Мафия</td>\n      <td>116</td>\n      <td>Lady Noir</td>\n    </tr>\n    <tr>\n      <th>1116</th>\n      <td>30463</td>\n      <td>3067</td>\n      <td>7</td>\n      <td>159</td>\n      <td>1</td>\n      <td>1.0</td>\n      <td>0.0</td>\n      <td>0.0</td>\n      <td>0</td>\n      <td>2023-08-15T13:24:56.000000Z</td>\n      <td>2023-08-19T21:52:45.000000Z</td>\n      <td>Бестия</td>\n      <td>2023-08-19</td>\n      <td>8</td>\n      <td>9</td>\n      <td>0</td>\n      <td>Победа мирных</td>\n      <td>Мирный</td>\n      <td>135</td>\n      <td>Нефтебаза в Чернигове</td>\n    </tr>\n    <tr>\n      <th>1117</th>\n      <td>30464</td>\n      <td>3067</td>\n      <td>8</td>\n      <td>383</td>\n      <td>1</td>\n      <td>1.0</td>\n      <td>0.1</td>\n      <td>0.0</td>\n      <td>0</td>\n      <td>2023-08-15T13:24:56.000000Z</td>\n      <td>2023-08-19T21:52:45.000000Z</td>\n      <td>Хрум</td>\n      <td>2023-08-19</td>\n      <td>8</td>\n      <td>9</td>\n      <td>0</td>\n      <td>Победа мирных</td>\n      <td>Мирный</td>\n      <td>127</td>\n      <td>ИМБА</td>\n    </tr>\n    <tr>\n      <th>1118</th>\n      <td>30465</td>\n      <td>3067</td>\n      <td>9</td>\n      <td>224</td>\n      <td>1</td>\n      <td>1.0</td>\n      <td>0.2</td>\n      <td>0.0</td>\n      <td>0</td>\n      <td>2023-08-15T13:24:56.000000Z</td>\n      <td>2023-08-19T21:52:45.000000Z</td>\n      <td>Андерсен</td>\n      <td>2023-08-19</td>\n      <td>8</td>\n      <td>9</td>\n      <td>0</td>\n      <td>Победа мирных</td>\n      <td>Мирный</td>\n      <td>129</td>\n      <td>Компот из,сука,фруктов</td>\n    </tr>\n    <tr>\n      <th>1119</th>\n      <td>30466</td>\n      <td>3067</td>\n      <td>10</td>\n      <td>174</td>\n      <td>2</td>\n      <td>0.0</td>\n      <td>0.0</td>\n      <td>0.0</td>\n      <td>0</td>\n      <td>2023-08-15T13:24:56.000000Z</td>\n      <td>2023-08-19T21:52:45.000000Z</td>\n      <td>Yesterday</td>\n      <td>2023-08-19</td>\n      <td>8</td>\n      <td>9</td>\n      <td>0</td>\n      <td>Победа мирных</td>\n      <td>Мафия</td>\n      <td>136</td>\n      <td>Сочная лисица</td>\n    </tr>\n  </tbody>\n</table>\n<p>1120 rows × 20 columns</p>\n</div>"
     },
     "execution_count": 477,
     "metadata": {},
     "output_type": "execute_result"
    }
   ],
   "source": [
    "df = kchb.get_info_about_all_games()\n",
    "df"
   ],
   "metadata": {
    "collapsed": false,
    "ExecuteTime": {
     "end_time": "2023-09-19T06:54:46.239795873Z",
     "start_time": "2023-09-19T06:54:46.188621229Z"
    }
   },
   "id": "89894c91aec21e00"
  },
  {
   "cell_type": "code",
   "execution_count": 435,
   "outputs": [
    {
     "data": {
      "text/plain": "box_number              team_name  player_name    1    2    3    4    5    6  \\\n0             Dangerous & Dragons     Инфинити  1.0  0.0  0.0  2.0  0.0  2.0   \n1             Dangerous & Dragons  Кастор Трой  1.0  4.0  4.0  0.0  0.0  2.0   \n2             Dangerous & Dragons     Писатель  0.0  2.0  2.0  2.0  0.0  0.0   \n3             Dangerous & Dragons     Стрекоза  2.0  0.0  1.0  3.0  1.0  0.0   \n4                       Lady Noir      BonAqua  1.0  3.0  0.0  3.0  0.0  0.0   \n..                            ...          ...  ...  ...  ...  ...  ...  ...   \n75          Нефтебаза в Чернигове       Гаджет  0.0  1.0  2.0  2.0  3.0  1.0   \n76                  Сочная лисица       Cristo  1.0  3.0  2.0  1.0  0.0  1.0   \n77                  Сочная лисица    Yesterday  1.0  1.0  1.0  5.0  0.0  2.0   \n78                  Сочная лисица         Архи  3.0  0.0  1.0  2.0  1.0  2.0   \n79                  Сочная лисица   Интерактив  3.0  1.0  0.0  2.0  1.0  0.0   \n\nbox_number    7    8    9   10  \n0           3.0  1.0  2.0  3.0  \n1           1.0  0.0  1.0  1.0  \n2           1.0  1.0  3.0  3.0  \n3           2.0  2.0  1.0  2.0  \n4           3.0  1.0  1.0  2.0  \n..          ...  ...  ...  ...  \n75          0.0  1.0  1.0  3.0  \n76          1.0  0.0  3.0  2.0  \n77          1.0  0.0  1.0  2.0  \n78          0.0  1.0  3.0  1.0  \n79          2.0  4.0  0.0  1.0  \n\n[80 rows x 12 columns]",
      "text/html": "<div>\n<style scoped>\n    .dataframe tbody tr th:only-of-type {\n        vertical-align: middle;\n    }\n\n    .dataframe tbody tr th {\n        vertical-align: top;\n    }\n\n    .dataframe thead th {\n        text-align: right;\n    }\n</style>\n<table border=\"1\" class=\"dataframe\">\n  <thead>\n    <tr style=\"text-align: right;\">\n      <th>box_number</th>\n      <th>team_name</th>\n      <th>player_name</th>\n      <th>1</th>\n      <th>2</th>\n      <th>3</th>\n      <th>4</th>\n      <th>5</th>\n      <th>6</th>\n      <th>7</th>\n      <th>8</th>\n      <th>9</th>\n      <th>10</th>\n    </tr>\n  </thead>\n  <tbody>\n    <tr>\n      <th>0</th>\n      <td>Dangerous &amp; Dragons</td>\n      <td>Инфинити</td>\n      <td>1.0</td>\n      <td>0.0</td>\n      <td>0.0</td>\n      <td>2.0</td>\n      <td>0.0</td>\n      <td>2.0</td>\n      <td>3.0</td>\n      <td>1.0</td>\n      <td>2.0</td>\n      <td>3.0</td>\n    </tr>\n    <tr>\n      <th>1</th>\n      <td>Dangerous &amp; Dragons</td>\n      <td>Кастор Трой</td>\n      <td>1.0</td>\n      <td>4.0</td>\n      <td>4.0</td>\n      <td>0.0</td>\n      <td>0.0</td>\n      <td>2.0</td>\n      <td>1.0</td>\n      <td>0.0</td>\n      <td>1.0</td>\n      <td>1.0</td>\n    </tr>\n    <tr>\n      <th>2</th>\n      <td>Dangerous &amp; Dragons</td>\n      <td>Писатель</td>\n      <td>0.0</td>\n      <td>2.0</td>\n      <td>2.0</td>\n      <td>2.0</td>\n      <td>0.0</td>\n      <td>0.0</td>\n      <td>1.0</td>\n      <td>1.0</td>\n      <td>3.0</td>\n      <td>3.0</td>\n    </tr>\n    <tr>\n      <th>3</th>\n      <td>Dangerous &amp; Dragons</td>\n      <td>Стрекоза</td>\n      <td>2.0</td>\n      <td>0.0</td>\n      <td>1.0</td>\n      <td>3.0</td>\n      <td>1.0</td>\n      <td>0.0</td>\n      <td>2.0</td>\n      <td>2.0</td>\n      <td>1.0</td>\n      <td>2.0</td>\n    </tr>\n    <tr>\n      <th>4</th>\n      <td>Lady Noir</td>\n      <td>BonAqua</td>\n      <td>1.0</td>\n      <td>3.0</td>\n      <td>0.0</td>\n      <td>3.0</td>\n      <td>0.0</td>\n      <td>0.0</td>\n      <td>3.0</td>\n      <td>1.0</td>\n      <td>1.0</td>\n      <td>2.0</td>\n    </tr>\n    <tr>\n      <th>...</th>\n      <td>...</td>\n      <td>...</td>\n      <td>...</td>\n      <td>...</td>\n      <td>...</td>\n      <td>...</td>\n      <td>...</td>\n      <td>...</td>\n      <td>...</td>\n      <td>...</td>\n      <td>...</td>\n      <td>...</td>\n    </tr>\n    <tr>\n      <th>75</th>\n      <td>Нефтебаза в Чернигове</td>\n      <td>Гаджет</td>\n      <td>0.0</td>\n      <td>1.0</td>\n      <td>2.0</td>\n      <td>2.0</td>\n      <td>3.0</td>\n      <td>1.0</td>\n      <td>0.0</td>\n      <td>1.0</td>\n      <td>1.0</td>\n      <td>3.0</td>\n    </tr>\n    <tr>\n      <th>76</th>\n      <td>Сочная лисица</td>\n      <td>Cristo</td>\n      <td>1.0</td>\n      <td>3.0</td>\n      <td>2.0</td>\n      <td>1.0</td>\n      <td>0.0</td>\n      <td>1.0</td>\n      <td>1.0</td>\n      <td>0.0</td>\n      <td>3.0</td>\n      <td>2.0</td>\n    </tr>\n    <tr>\n      <th>77</th>\n      <td>Сочная лисица</td>\n      <td>Yesterday</td>\n      <td>1.0</td>\n      <td>1.0</td>\n      <td>1.0</td>\n      <td>5.0</td>\n      <td>0.0</td>\n      <td>2.0</td>\n      <td>1.0</td>\n      <td>0.0</td>\n      <td>1.0</td>\n      <td>2.0</td>\n    </tr>\n    <tr>\n      <th>78</th>\n      <td>Сочная лисица</td>\n      <td>Архи</td>\n      <td>3.0</td>\n      <td>0.0</td>\n      <td>1.0</td>\n      <td>2.0</td>\n      <td>1.0</td>\n      <td>2.0</td>\n      <td>0.0</td>\n      <td>1.0</td>\n      <td>3.0</td>\n      <td>1.0</td>\n    </tr>\n    <tr>\n      <th>79</th>\n      <td>Сочная лисица</td>\n      <td>Интерактив</td>\n      <td>3.0</td>\n      <td>1.0</td>\n      <td>0.0</td>\n      <td>2.0</td>\n      <td>1.0</td>\n      <td>0.0</td>\n      <td>2.0</td>\n      <td>4.0</td>\n      <td>0.0</td>\n      <td>1.0</td>\n    </tr>\n  </tbody>\n</table>\n<p>80 rows × 12 columns</p>\n</div>"
     },
     "execution_count": 435,
     "metadata": {},
     "output_type": "execute_result"
    }
   ],
   "source": [
    "table_distribution = df.groupby(['team_name', 'player_name', 'table_number'])['player_id'].count().unstack().fillna(0).reset_index()\n",
    "box_distribution = df.groupby(['team_name', 'player_name', 'box_number'])['player_id'].count().unstack().fillna(0).reset_index()\n",
    "box_distribution\n"
   ],
   "metadata": {
    "collapsed": false,
    "ExecuteTime": {
     "end_time": "2023-09-19T06:16:17.117111619Z",
     "start_time": "2023-09-19T06:16:17.085935680Z"
    }
   },
   "id": "2e7de56f5c486d29"
  },
  {
   "cell_type": "code",
   "execution_count": null,
   "outputs": [],
   "source": [
    "kchb.games.shape"
   ],
   "metadata": {
    "collapsed": false
   },
   "id": "3c534caaba07e277"
  },
  {
   "cell_type": "code",
   "execution_count": null,
   "outputs": [],
   "source": [
    "1120/14"
   ],
   "metadata": {
    "collapsed": false
   },
   "id": "d194cbfef8091f29"
  },
  {
   "cell_type": "code",
   "execution_count": null,
   "outputs": [],
   "source": [
    "def make_spider(values, param=['Title','#C0D8C0']):\n",
    "    fig = go.Figure(\n",
    "        go.Scatterpolar(\n",
    "            r=values,\n",
    "            theta=[f'Стол {table}' for table in range(1, len(values)+1)],\n",
    "            fill='toself',\n",
    "            marker_color=param[1],\n",
    "            hovertemplate='%{theta}' + '<br>' +\n",
    "                          '<b>Сыграно: ' + '%{r}'+\n",
    "                          '<extra></extra>',\n",
    "        ))\n",
    "    fig.update_layout(\n",
    "        polar=dict(\n",
    "            radialaxis=dict(\n",
    "                visible=True,\n",
    "                range=[0, 8],\n",
    "            ),\n",
    "        ),\n",
    "\n",
    "        margin={'t': 25, 'r': 45, 'l': 45, 'pad': 0},\n",
    "        showlegend=False,\n",
    "        title=param[0],\n",
    "        title_x=0.5,\n",
    "        title_font_color=param[1],\n",
    "    )\n",
    "    return fig"
   ],
   "metadata": {
    "collapsed": false
   },
   "id": "12912e25d55e1b73"
  },
  {
   "cell_type": "code",
   "execution_count": null,
   "outputs": [],
   "source": [
    "make_spider([0,4,5,6], param=['Title','#C0D8C0'])"
   ],
   "metadata": {
    "collapsed": false
   },
   "id": "68dea4b321ce84f"
  },
  {
   "cell_type": "code",
   "execution_count": 493,
   "outputs": [],
   "source": [
    "box_distribution = df.groupby(['team_name', 'player_name', 'box_number'])['player_id'].count().unstack().fillna(0).reset_index()\n",
    "box_distribution[box_distribution['team_name'] == 'Dangerous & Dragons'].iloc[3].to_list()[2:]\n",
    "box_distribution=box_distribution[box_distribution['team_name'] == 'Lady Noir']\n",
    "qq = box_distribution.iloc[:,2:].values.flatten().reshape(4,10).tolist()"
   ],
   "metadata": {
    "collapsed": false,
    "ExecuteTime": {
     "end_time": "2023-09-19T07:24:46.409036964Z",
     "start_time": "2023-09-19T07:24:46.353074188Z"
    }
   },
   "id": "8385fc5e00832a57"
  },
  {
   "cell_type": "code",
   "execution_count": 432,
   "outputs": [
    {
     "data": {
      "application/vnd.plotly.v1+json": {
       "data": [
        {
         "marker": {
          "color": "crimson"
         },
         "name": "expenses",
         "x": [
          1,
          2,
          3,
          4,
          5,
          6,
          7,
          8,
          9,
          10
         ],
         "y": [
          2,
          5,
          1,
          5,
          4,
          1,
          1,
          1,
          1,
          3
         ],
         "type": "bar",
         "textposition": "outside",
         "texttemplate": "%{y}"
        }
       ],
       "layout": {
        "template": {
         "data": {
          "barpolar": [
           {
            "marker": {
             "line": {
              "color": "white",
              "width": 0.5
             },
             "pattern": {
              "fillmode": "overlay",
              "size": 10,
              "solidity": 0.2
             }
            },
            "type": "barpolar"
           }
          ],
          "bar": [
           {
            "error_x": {
             "color": "#2a3f5f"
            },
            "error_y": {
             "color": "#2a3f5f"
            },
            "marker": {
             "line": {
              "color": "white",
              "width": 0.5
             },
             "pattern": {
              "fillmode": "overlay",
              "size": 10,
              "solidity": 0.2
             }
            },
            "type": "bar"
           }
          ],
          "carpet": [
           {
            "aaxis": {
             "endlinecolor": "#2a3f5f",
             "gridcolor": "#C8D4E3",
             "linecolor": "#C8D4E3",
             "minorgridcolor": "#C8D4E3",
             "startlinecolor": "#2a3f5f"
            },
            "baxis": {
             "endlinecolor": "#2a3f5f",
             "gridcolor": "#C8D4E3",
             "linecolor": "#C8D4E3",
             "minorgridcolor": "#C8D4E3",
             "startlinecolor": "#2a3f5f"
            },
            "type": "carpet"
           }
          ],
          "choropleth": [
           {
            "colorbar": {
             "outlinewidth": 0,
             "ticks": ""
            },
            "type": "choropleth"
           }
          ],
          "contourcarpet": [
           {
            "colorbar": {
             "outlinewidth": 0,
             "ticks": ""
            },
            "type": "contourcarpet"
           }
          ],
          "contour": [
           {
            "colorbar": {
             "outlinewidth": 0,
             "ticks": ""
            },
            "colorscale": [
             [
              0.0,
              "#0d0887"
             ],
             [
              0.1111111111111111,
              "#46039f"
             ],
             [
              0.2222222222222222,
              "#7201a8"
             ],
             [
              0.3333333333333333,
              "#9c179e"
             ],
             [
              0.4444444444444444,
              "#bd3786"
             ],
             [
              0.5555555555555556,
              "#d8576b"
             ],
             [
              0.6666666666666666,
              "#ed7953"
             ],
             [
              0.7777777777777778,
              "#fb9f3a"
             ],
             [
              0.8888888888888888,
              "#fdca26"
             ],
             [
              1.0,
              "#f0f921"
             ]
            ],
            "type": "contour"
           }
          ],
          "heatmapgl": [
           {
            "colorbar": {
             "outlinewidth": 0,
             "ticks": ""
            },
            "colorscale": [
             [
              0.0,
              "#0d0887"
             ],
             [
              0.1111111111111111,
              "#46039f"
             ],
             [
              0.2222222222222222,
              "#7201a8"
             ],
             [
              0.3333333333333333,
              "#9c179e"
             ],
             [
              0.4444444444444444,
              "#bd3786"
             ],
             [
              0.5555555555555556,
              "#d8576b"
             ],
             [
              0.6666666666666666,
              "#ed7953"
             ],
             [
              0.7777777777777778,
              "#fb9f3a"
             ],
             [
              0.8888888888888888,
              "#fdca26"
             ],
             [
              1.0,
              "#f0f921"
             ]
            ],
            "type": "heatmapgl"
           }
          ],
          "heatmap": [
           {
            "colorbar": {
             "outlinewidth": 0,
             "ticks": ""
            },
            "colorscale": [
             [
              0.0,
              "#0d0887"
             ],
             [
              0.1111111111111111,
              "#46039f"
             ],
             [
              0.2222222222222222,
              "#7201a8"
             ],
             [
              0.3333333333333333,
              "#9c179e"
             ],
             [
              0.4444444444444444,
              "#bd3786"
             ],
             [
              0.5555555555555556,
              "#d8576b"
             ],
             [
              0.6666666666666666,
              "#ed7953"
             ],
             [
              0.7777777777777778,
              "#fb9f3a"
             ],
             [
              0.8888888888888888,
              "#fdca26"
             ],
             [
              1.0,
              "#f0f921"
             ]
            ],
            "type": "heatmap"
           }
          ],
          "histogram2dcontour": [
           {
            "colorbar": {
             "outlinewidth": 0,
             "ticks": ""
            },
            "colorscale": [
             [
              0.0,
              "#0d0887"
             ],
             [
              0.1111111111111111,
              "#46039f"
             ],
             [
              0.2222222222222222,
              "#7201a8"
             ],
             [
              0.3333333333333333,
              "#9c179e"
             ],
             [
              0.4444444444444444,
              "#bd3786"
             ],
             [
              0.5555555555555556,
              "#d8576b"
             ],
             [
              0.6666666666666666,
              "#ed7953"
             ],
             [
              0.7777777777777778,
              "#fb9f3a"
             ],
             [
              0.8888888888888888,
              "#fdca26"
             ],
             [
              1.0,
              "#f0f921"
             ]
            ],
            "type": "histogram2dcontour"
           }
          ],
          "histogram2d": [
           {
            "colorbar": {
             "outlinewidth": 0,
             "ticks": ""
            },
            "colorscale": [
             [
              0.0,
              "#0d0887"
             ],
             [
              0.1111111111111111,
              "#46039f"
             ],
             [
              0.2222222222222222,
              "#7201a8"
             ],
             [
              0.3333333333333333,
              "#9c179e"
             ],
             [
              0.4444444444444444,
              "#bd3786"
             ],
             [
              0.5555555555555556,
              "#d8576b"
             ],
             [
              0.6666666666666666,
              "#ed7953"
             ],
             [
              0.7777777777777778,
              "#fb9f3a"
             ],
             [
              0.8888888888888888,
              "#fdca26"
             ],
             [
              1.0,
              "#f0f921"
             ]
            ],
            "type": "histogram2d"
           }
          ],
          "histogram": [
           {
            "marker": {
             "pattern": {
              "fillmode": "overlay",
              "size": 10,
              "solidity": 0.2
             }
            },
            "type": "histogram"
           }
          ],
          "mesh3d": [
           {
            "colorbar": {
             "outlinewidth": 0,
             "ticks": ""
            },
            "type": "mesh3d"
           }
          ],
          "parcoords": [
           {
            "line": {
             "colorbar": {
              "outlinewidth": 0,
              "ticks": ""
             }
            },
            "type": "parcoords"
           }
          ],
          "pie": [
           {
            "automargin": true,
            "type": "pie"
           }
          ],
          "scatter3d": [
           {
            "line": {
             "colorbar": {
              "outlinewidth": 0,
              "ticks": ""
             }
            },
            "marker": {
             "colorbar": {
              "outlinewidth": 0,
              "ticks": ""
             }
            },
            "type": "scatter3d"
           }
          ],
          "scattercarpet": [
           {
            "marker": {
             "colorbar": {
              "outlinewidth": 0,
              "ticks": ""
             }
            },
            "type": "scattercarpet"
           }
          ],
          "scattergeo": [
           {
            "marker": {
             "colorbar": {
              "outlinewidth": 0,
              "ticks": ""
             }
            },
            "type": "scattergeo"
           }
          ],
          "scattergl": [
           {
            "marker": {
             "colorbar": {
              "outlinewidth": 0,
              "ticks": ""
             }
            },
            "type": "scattergl"
           }
          ],
          "scattermapbox": [
           {
            "marker": {
             "colorbar": {
              "outlinewidth": 0,
              "ticks": ""
             }
            },
            "type": "scattermapbox"
           }
          ],
          "scatterpolargl": [
           {
            "marker": {
             "colorbar": {
              "outlinewidth": 0,
              "ticks": ""
             }
            },
            "type": "scatterpolargl"
           }
          ],
          "scatterpolar": [
           {
            "marker": {
             "colorbar": {
              "outlinewidth": 0,
              "ticks": ""
             }
            },
            "type": "scatterpolar"
           }
          ],
          "scatter": [
           {
            "fillpattern": {
             "fillmode": "overlay",
             "size": 10,
             "solidity": 0.2
            },
            "type": "scatter"
           }
          ],
          "scatterternary": [
           {
            "marker": {
             "colorbar": {
              "outlinewidth": 0,
              "ticks": ""
             }
            },
            "type": "scatterternary"
           }
          ],
          "surface": [
           {
            "colorbar": {
             "outlinewidth": 0,
             "ticks": ""
            },
            "colorscale": [
             [
              0.0,
              "#0d0887"
             ],
             [
              0.1111111111111111,
              "#46039f"
             ],
             [
              0.2222222222222222,
              "#7201a8"
             ],
             [
              0.3333333333333333,
              "#9c179e"
             ],
             [
              0.4444444444444444,
              "#bd3786"
             ],
             [
              0.5555555555555556,
              "#d8576b"
             ],
             [
              0.6666666666666666,
              "#ed7953"
             ],
             [
              0.7777777777777778,
              "#fb9f3a"
             ],
             [
              0.8888888888888888,
              "#fdca26"
             ],
             [
              1.0,
              "#f0f921"
             ]
            ],
            "type": "surface"
           }
          ],
          "table": [
           {
            "cells": {
             "fill": {
              "color": "#EBF0F8"
             },
             "line": {
              "color": "white"
             }
            },
            "header": {
             "fill": {
              "color": "#C8D4E3"
             },
             "line": {
              "color": "white"
             }
            },
            "type": "table"
           }
          ]
         },
         "layout": {
          "annotationdefaults": {
           "arrowcolor": "#2a3f5f",
           "arrowhead": 0,
           "arrowwidth": 1
          },
          "autotypenumbers": "strict",
          "coloraxis": {
           "colorbar": {
            "outlinewidth": 0,
            "ticks": ""
           }
          },
          "colorscale": {
           "diverging": [
            [
             0,
             "#8e0152"
            ],
            [
             0.1,
             "#c51b7d"
            ],
            [
             0.2,
             "#de77ae"
            ],
            [
             0.3,
             "#f1b6da"
            ],
            [
             0.4,
             "#fde0ef"
            ],
            [
             0.5,
             "#f7f7f7"
            ],
            [
             0.6,
             "#e6f5d0"
            ],
            [
             0.7,
             "#b8e186"
            ],
            [
             0.8,
             "#7fbc41"
            ],
            [
             0.9,
             "#4d9221"
            ],
            [
             1,
             "#276419"
            ]
           ],
           "sequential": [
            [
             0.0,
             "#0d0887"
            ],
            [
             0.1111111111111111,
             "#46039f"
            ],
            [
             0.2222222222222222,
             "#7201a8"
            ],
            [
             0.3333333333333333,
             "#9c179e"
            ],
            [
             0.4444444444444444,
             "#bd3786"
            ],
            [
             0.5555555555555556,
             "#d8576b"
            ],
            [
             0.6666666666666666,
             "#ed7953"
            ],
            [
             0.7777777777777778,
             "#fb9f3a"
            ],
            [
             0.8888888888888888,
             "#fdca26"
            ],
            [
             1.0,
             "#f0f921"
            ]
           ],
           "sequentialminus": [
            [
             0.0,
             "#0d0887"
            ],
            [
             0.1111111111111111,
             "#46039f"
            ],
            [
             0.2222222222222222,
             "#7201a8"
            ],
            [
             0.3333333333333333,
             "#9c179e"
            ],
            [
             0.4444444444444444,
             "#bd3786"
            ],
            [
             0.5555555555555556,
             "#d8576b"
            ],
            [
             0.6666666666666666,
             "#ed7953"
            ],
            [
             0.7777777777777778,
             "#fb9f3a"
            ],
            [
             0.8888888888888888,
             "#fdca26"
            ],
            [
             1.0,
             "#f0f921"
            ]
           ]
          },
          "colorway": [
           "#636efa",
           "#EF553B",
           "#00cc96",
           "#ab63fa",
           "#FFA15A",
           "#19d3f3",
           "#FF6692",
           "#B6E880",
           "#FF97FF",
           "#FECB52"
          ],
          "font": {
           "color": "#2a3f5f"
          },
          "geo": {
           "bgcolor": "white",
           "lakecolor": "white",
           "landcolor": "white",
           "showlakes": true,
           "showland": true,
           "subunitcolor": "#C8D4E3"
          },
          "hoverlabel": {
           "align": "left"
          },
          "hovermode": "closest",
          "mapbox": {
           "style": "light"
          },
          "paper_bgcolor": "white",
          "plot_bgcolor": "white",
          "polar": {
           "angularaxis": {
            "gridcolor": "#EBF0F8",
            "linecolor": "#EBF0F8",
            "ticks": ""
           },
           "bgcolor": "white",
           "radialaxis": {
            "gridcolor": "#EBF0F8",
            "linecolor": "#EBF0F8",
            "ticks": ""
           }
          },
          "scene": {
           "xaxis": {
            "backgroundcolor": "white",
            "gridcolor": "#DFE8F3",
            "gridwidth": 2,
            "linecolor": "#EBF0F8",
            "showbackground": true,
            "ticks": "",
            "zerolinecolor": "#EBF0F8"
           },
           "yaxis": {
            "backgroundcolor": "white",
            "gridcolor": "#DFE8F3",
            "gridwidth": 2,
            "linecolor": "#EBF0F8",
            "showbackground": true,
            "ticks": "",
            "zerolinecolor": "#EBF0F8"
           },
           "zaxis": {
            "backgroundcolor": "white",
            "gridcolor": "#DFE8F3",
            "gridwidth": 2,
            "linecolor": "#EBF0F8",
            "showbackground": true,
            "ticks": "",
            "zerolinecolor": "#EBF0F8"
           }
          },
          "shapedefaults": {
           "line": {
            "color": "#2a3f5f"
           }
          },
          "ternary": {
           "aaxis": {
            "gridcolor": "#DFE8F3",
            "linecolor": "#A2B1C6",
            "ticks": ""
           },
           "baxis": {
            "gridcolor": "#DFE8F3",
            "linecolor": "#A2B1C6",
            "ticks": ""
           },
           "bgcolor": "white",
           "caxis": {
            "gridcolor": "#DFE8F3",
            "linecolor": "#A2B1C6",
            "ticks": ""
           }
          },
          "title": {
           "x": 0.05
          },
          "xaxis": {
           "automargin": true,
           "gridcolor": "#EBF0F8",
           "linecolor": "#EBF0F8",
           "ticks": "",
           "title": {
            "standoff": 15
           },
           "zerolinecolor": "#EBF0F8",
           "zerolinewidth": 2
          },
          "yaxis": {
           "automargin": true,
           "gridcolor": "#EBF0F8",
           "linecolor": "#EBF0F8",
           "ticks": "",
           "title": {
            "standoff": 15
           },
           "zerolinecolor": "#EBF0F8",
           "zerolinewidth": 2
          }
         }
        },
        "yaxis": {
         "visible": false
        },
        "xaxis": {
         "tickfont": {
          "size": 13
         },
         "title": {
          "text": "<b>Номера боксов</b>"
         },
         "range": [
          0.5,
          10
         ],
         "zeroline": false,
         "showgrid": false,
         "linecolor": "black",
         "linewidth": 2,
         "ticks": "outside",
         "fixedrange": true,
         "tickangle": 0
        },
        "margin": {
         "t": 25,
         "r": 0,
         "l": 0,
         "pad": 0
        },
        "showlegend": false
       },
       "config": {
        "plotlyServerURL": "https://plot.ly"
       }
      },
      "text/html": "<div>                            <div id=\"b232ee79-2c08-4592-aa76-d7de168d6236\" class=\"plotly-graph-div\" style=\"height:525px; width:100%;\"></div>            <script type=\"text/javascript\">                require([\"plotly\"], function(Plotly) {                    window.PLOTLYENV=window.PLOTLYENV || {};                                    if (document.getElementById(\"b232ee79-2c08-4592-aa76-d7de168d6236\")) {                    Plotly.newPlot(                        \"b232ee79-2c08-4592-aa76-d7de168d6236\",                        [{\"marker\":{\"color\":\"crimson\"},\"name\":\"expenses\",\"x\":[1,2,3,4,5,6,7,8,9,10],\"y\":[2,5,1,5,4,1,1,1,1,3],\"type\":\"bar\",\"textposition\":\"outside\",\"texttemplate\":\"%{y}\"}],                        {\"template\":{\"data\":{\"barpolar\":[{\"marker\":{\"line\":{\"color\":\"white\",\"width\":0.5},\"pattern\":{\"fillmode\":\"overlay\",\"size\":10,\"solidity\":0.2}},\"type\":\"barpolar\"}],\"bar\":[{\"error_x\":{\"color\":\"#2a3f5f\"},\"error_y\":{\"color\":\"#2a3f5f\"},\"marker\":{\"line\":{\"color\":\"white\",\"width\":0.5},\"pattern\":{\"fillmode\":\"overlay\",\"size\":10,\"solidity\":0.2}},\"type\":\"bar\"}],\"carpet\":[{\"aaxis\":{\"endlinecolor\":\"#2a3f5f\",\"gridcolor\":\"#C8D4E3\",\"linecolor\":\"#C8D4E3\",\"minorgridcolor\":\"#C8D4E3\",\"startlinecolor\":\"#2a3f5f\"},\"baxis\":{\"endlinecolor\":\"#2a3f5f\",\"gridcolor\":\"#C8D4E3\",\"linecolor\":\"#C8D4E3\",\"minorgridcolor\":\"#C8D4E3\",\"startlinecolor\":\"#2a3f5f\"},\"type\":\"carpet\"}],\"choropleth\":[{\"colorbar\":{\"outlinewidth\":0,\"ticks\":\"\"},\"type\":\"choropleth\"}],\"contourcarpet\":[{\"colorbar\":{\"outlinewidth\":0,\"ticks\":\"\"},\"type\":\"contourcarpet\"}],\"contour\":[{\"colorbar\":{\"outlinewidth\":0,\"ticks\":\"\"},\"colorscale\":[[0.0,\"#0d0887\"],[0.1111111111111111,\"#46039f\"],[0.2222222222222222,\"#7201a8\"],[0.3333333333333333,\"#9c179e\"],[0.4444444444444444,\"#bd3786\"],[0.5555555555555556,\"#d8576b\"],[0.6666666666666666,\"#ed7953\"],[0.7777777777777778,\"#fb9f3a\"],[0.8888888888888888,\"#fdca26\"],[1.0,\"#f0f921\"]],\"type\":\"contour\"}],\"heatmapgl\":[{\"colorbar\":{\"outlinewidth\":0,\"ticks\":\"\"},\"colorscale\":[[0.0,\"#0d0887\"],[0.1111111111111111,\"#46039f\"],[0.2222222222222222,\"#7201a8\"],[0.3333333333333333,\"#9c179e\"],[0.4444444444444444,\"#bd3786\"],[0.5555555555555556,\"#d8576b\"],[0.6666666666666666,\"#ed7953\"],[0.7777777777777778,\"#fb9f3a\"],[0.8888888888888888,\"#fdca26\"],[1.0,\"#f0f921\"]],\"type\":\"heatmapgl\"}],\"heatmap\":[{\"colorbar\":{\"outlinewidth\":0,\"ticks\":\"\"},\"colorscale\":[[0.0,\"#0d0887\"],[0.1111111111111111,\"#46039f\"],[0.2222222222222222,\"#7201a8\"],[0.3333333333333333,\"#9c179e\"],[0.4444444444444444,\"#bd3786\"],[0.5555555555555556,\"#d8576b\"],[0.6666666666666666,\"#ed7953\"],[0.7777777777777778,\"#fb9f3a\"],[0.8888888888888888,\"#fdca26\"],[1.0,\"#f0f921\"]],\"type\":\"heatmap\"}],\"histogram2dcontour\":[{\"colorbar\":{\"outlinewidth\":0,\"ticks\":\"\"},\"colorscale\":[[0.0,\"#0d0887\"],[0.1111111111111111,\"#46039f\"],[0.2222222222222222,\"#7201a8\"],[0.3333333333333333,\"#9c179e\"],[0.4444444444444444,\"#bd3786\"],[0.5555555555555556,\"#d8576b\"],[0.6666666666666666,\"#ed7953\"],[0.7777777777777778,\"#fb9f3a\"],[0.8888888888888888,\"#fdca26\"],[1.0,\"#f0f921\"]],\"type\":\"histogram2dcontour\"}],\"histogram2d\":[{\"colorbar\":{\"outlinewidth\":0,\"ticks\":\"\"},\"colorscale\":[[0.0,\"#0d0887\"],[0.1111111111111111,\"#46039f\"],[0.2222222222222222,\"#7201a8\"],[0.3333333333333333,\"#9c179e\"],[0.4444444444444444,\"#bd3786\"],[0.5555555555555556,\"#d8576b\"],[0.6666666666666666,\"#ed7953\"],[0.7777777777777778,\"#fb9f3a\"],[0.8888888888888888,\"#fdca26\"],[1.0,\"#f0f921\"]],\"type\":\"histogram2d\"}],\"histogram\":[{\"marker\":{\"pattern\":{\"fillmode\":\"overlay\",\"size\":10,\"solidity\":0.2}},\"type\":\"histogram\"}],\"mesh3d\":[{\"colorbar\":{\"outlinewidth\":0,\"ticks\":\"\"},\"type\":\"mesh3d\"}],\"parcoords\":[{\"line\":{\"colorbar\":{\"outlinewidth\":0,\"ticks\":\"\"}},\"type\":\"parcoords\"}],\"pie\":[{\"automargin\":true,\"type\":\"pie\"}],\"scatter3d\":[{\"line\":{\"colorbar\":{\"outlinewidth\":0,\"ticks\":\"\"}},\"marker\":{\"colorbar\":{\"outlinewidth\":0,\"ticks\":\"\"}},\"type\":\"scatter3d\"}],\"scattercarpet\":[{\"marker\":{\"colorbar\":{\"outlinewidth\":0,\"ticks\":\"\"}},\"type\":\"scattercarpet\"}],\"scattergeo\":[{\"marker\":{\"colorbar\":{\"outlinewidth\":0,\"ticks\":\"\"}},\"type\":\"scattergeo\"}],\"scattergl\":[{\"marker\":{\"colorbar\":{\"outlinewidth\":0,\"ticks\":\"\"}},\"type\":\"scattergl\"}],\"scattermapbox\":[{\"marker\":{\"colorbar\":{\"outlinewidth\":0,\"ticks\":\"\"}},\"type\":\"scattermapbox\"}],\"scatterpolargl\":[{\"marker\":{\"colorbar\":{\"outlinewidth\":0,\"ticks\":\"\"}},\"type\":\"scatterpolargl\"}],\"scatterpolar\":[{\"marker\":{\"colorbar\":{\"outlinewidth\":0,\"ticks\":\"\"}},\"type\":\"scatterpolar\"}],\"scatter\":[{\"fillpattern\":{\"fillmode\":\"overlay\",\"size\":10,\"solidity\":0.2},\"type\":\"scatter\"}],\"scatterternary\":[{\"marker\":{\"colorbar\":{\"outlinewidth\":0,\"ticks\":\"\"}},\"type\":\"scatterternary\"}],\"surface\":[{\"colorbar\":{\"outlinewidth\":0,\"ticks\":\"\"},\"colorscale\":[[0.0,\"#0d0887\"],[0.1111111111111111,\"#46039f\"],[0.2222222222222222,\"#7201a8\"],[0.3333333333333333,\"#9c179e\"],[0.4444444444444444,\"#bd3786\"],[0.5555555555555556,\"#d8576b\"],[0.6666666666666666,\"#ed7953\"],[0.7777777777777778,\"#fb9f3a\"],[0.8888888888888888,\"#fdca26\"],[1.0,\"#f0f921\"]],\"type\":\"surface\"}],\"table\":[{\"cells\":{\"fill\":{\"color\":\"#EBF0F8\"},\"line\":{\"color\":\"white\"}},\"header\":{\"fill\":{\"color\":\"#C8D4E3\"},\"line\":{\"color\":\"white\"}},\"type\":\"table\"}]},\"layout\":{\"annotationdefaults\":{\"arrowcolor\":\"#2a3f5f\",\"arrowhead\":0,\"arrowwidth\":1},\"autotypenumbers\":\"strict\",\"coloraxis\":{\"colorbar\":{\"outlinewidth\":0,\"ticks\":\"\"}},\"colorscale\":{\"diverging\":[[0,\"#8e0152\"],[0.1,\"#c51b7d\"],[0.2,\"#de77ae\"],[0.3,\"#f1b6da\"],[0.4,\"#fde0ef\"],[0.5,\"#f7f7f7\"],[0.6,\"#e6f5d0\"],[0.7,\"#b8e186\"],[0.8,\"#7fbc41\"],[0.9,\"#4d9221\"],[1,\"#276419\"]],\"sequential\":[[0.0,\"#0d0887\"],[0.1111111111111111,\"#46039f\"],[0.2222222222222222,\"#7201a8\"],[0.3333333333333333,\"#9c179e\"],[0.4444444444444444,\"#bd3786\"],[0.5555555555555556,\"#d8576b\"],[0.6666666666666666,\"#ed7953\"],[0.7777777777777778,\"#fb9f3a\"],[0.8888888888888888,\"#fdca26\"],[1.0,\"#f0f921\"]],\"sequentialminus\":[[0.0,\"#0d0887\"],[0.1111111111111111,\"#46039f\"],[0.2222222222222222,\"#7201a8\"],[0.3333333333333333,\"#9c179e\"],[0.4444444444444444,\"#bd3786\"],[0.5555555555555556,\"#d8576b\"],[0.6666666666666666,\"#ed7953\"],[0.7777777777777778,\"#fb9f3a\"],[0.8888888888888888,\"#fdca26\"],[1.0,\"#f0f921\"]]},\"colorway\":[\"#636efa\",\"#EF553B\",\"#00cc96\",\"#ab63fa\",\"#FFA15A\",\"#19d3f3\",\"#FF6692\",\"#B6E880\",\"#FF97FF\",\"#FECB52\"],\"font\":{\"color\":\"#2a3f5f\"},\"geo\":{\"bgcolor\":\"white\",\"lakecolor\":\"white\",\"landcolor\":\"white\",\"showlakes\":true,\"showland\":true,\"subunitcolor\":\"#C8D4E3\"},\"hoverlabel\":{\"align\":\"left\"},\"hovermode\":\"closest\",\"mapbox\":{\"style\":\"light\"},\"paper_bgcolor\":\"white\",\"plot_bgcolor\":\"white\",\"polar\":{\"angularaxis\":{\"gridcolor\":\"#EBF0F8\",\"linecolor\":\"#EBF0F8\",\"ticks\":\"\"},\"bgcolor\":\"white\",\"radialaxis\":{\"gridcolor\":\"#EBF0F8\",\"linecolor\":\"#EBF0F8\",\"ticks\":\"\"}},\"scene\":{\"xaxis\":{\"backgroundcolor\":\"white\",\"gridcolor\":\"#DFE8F3\",\"gridwidth\":2,\"linecolor\":\"#EBF0F8\",\"showbackground\":true,\"ticks\":\"\",\"zerolinecolor\":\"#EBF0F8\"},\"yaxis\":{\"backgroundcolor\":\"white\",\"gridcolor\":\"#DFE8F3\",\"gridwidth\":2,\"linecolor\":\"#EBF0F8\",\"showbackground\":true,\"ticks\":\"\",\"zerolinecolor\":\"#EBF0F8\"},\"zaxis\":{\"backgroundcolor\":\"white\",\"gridcolor\":\"#DFE8F3\",\"gridwidth\":2,\"linecolor\":\"#EBF0F8\",\"showbackground\":true,\"ticks\":\"\",\"zerolinecolor\":\"#EBF0F8\"}},\"shapedefaults\":{\"line\":{\"color\":\"#2a3f5f\"}},\"ternary\":{\"aaxis\":{\"gridcolor\":\"#DFE8F3\",\"linecolor\":\"#A2B1C6\",\"ticks\":\"\"},\"baxis\":{\"gridcolor\":\"#DFE8F3\",\"linecolor\":\"#A2B1C6\",\"ticks\":\"\"},\"bgcolor\":\"white\",\"caxis\":{\"gridcolor\":\"#DFE8F3\",\"linecolor\":\"#A2B1C6\",\"ticks\":\"\"}},\"title\":{\"x\":0.05},\"xaxis\":{\"automargin\":true,\"gridcolor\":\"#EBF0F8\",\"linecolor\":\"#EBF0F8\",\"ticks\":\"\",\"title\":{\"standoff\":15},\"zerolinecolor\":\"#EBF0F8\",\"zerolinewidth\":2},\"yaxis\":{\"automargin\":true,\"gridcolor\":\"#EBF0F8\",\"linecolor\":\"#EBF0F8\",\"ticks\":\"\",\"title\":{\"standoff\":15},\"zerolinecolor\":\"#EBF0F8\",\"zerolinewidth\":2}}},\"yaxis\":{\"visible\":false},\"xaxis\":{\"tickfont\":{\"size\":13},\"title\":{\"text\":\"\\u003cb\\u003e\\u041d\\u043e\\u043c\\u0435\\u0440\\u0430 \\u0431\\u043e\\u043a\\u0441\\u043e\\u0432\\u003c\\u002fb\\u003e\"},\"range\":[0.5,10],\"zeroline\":false,\"showgrid\":false,\"linecolor\":\"black\",\"linewidth\":2,\"ticks\":\"outside\",\"fixedrange\":true,\"tickangle\":0},\"margin\":{\"t\":25,\"r\":0,\"l\":0,\"pad\":0},\"showlegend\":false},                        {\"responsive\": true}                    ).then(function(){\n                            \nvar gd = document.getElementById('b232ee79-2c08-4592-aa76-d7de168d6236');\nvar x = new MutationObserver(function (mutations, observer) {{\n        var display = window.getComputedStyle(gd).display;\n        if (!display || display === 'none') {{\n            console.log([gd, 'removed!']);\n            Plotly.purge(gd);\n            observer.disconnect();\n        }}\n}});\n\n// Listen for the removal of the full notebook cells\nvar notebookContainer = gd.closest('#notebook-container');\nif (notebookContainer) {{\n    x.observe(notebookContainer, {childList: true});\n}}\n\n// Listen for the clearing of the current output cell\nvar outputEl = gd.closest('.output');\nif (outputEl) {{\n    x.observe(outputEl, {childList: true});\n}}\n\n                        })                };                });            </script>        </div>"
     },
     "metadata": {},
     "output_type": "display_data"
    }
   ],
   "source": [
    "\n",
    "fig = go.Figure()\n",
    "fig.add_trace(go.Bar(x=[1,2,3,4,5,6,7,8,9,10], y=[2,5,1,5,4,1,1,1,1,3],\n",
    "                     \n",
    "                     marker_color='crimson',\n",
    "                     name='expenses'))\n",
    "fig.update_traces(texttemplate='%{y}', textposition='outside')\n",
    "fig.update_yaxes(visible=False)\n",
    "fig.update_xaxes(title=\"<b>Номера боксов</b>\",\n",
    "                 range=[0.5, 10],\n",
    "                 zeroline=False,\n",
    "                 showgrid=False,\n",
    "                 linecolor='black', linewidth=2,\n",
    "                 ticks=\"outside\", tickfont_size=13,\n",
    "                 # tickmode=\"array\", tickvals=tick_values, ticktext=tick_texts,\n",
    "                 fixedrange=True, tickangle=0)\n",
    "fig.update_layout(\n",
    "       template='plotly_white',\n",
    "       margin={'t': 25, 'r': 0, 'l': 0, 'pad': 0},\n",
    "       showlegend=False,\n",
    ")"
   ],
   "metadata": {
    "collapsed": false,
    "ExecuteTime": {
     "end_time": "2023-09-18T14:37:17.541176714Z",
     "start_time": "2023-09-18T14:37:17.521106934Z"
    }
   },
   "id": "d26e206f3ee9d357"
  },
  {
   "cell_type": "code",
   "execution_count": 492,
   "outputs": [],
   "source": [
    "import plotly.express as px"
   ],
   "metadata": {
    "collapsed": false,
    "ExecuteTime": {
     "end_time": "2023-09-19T07:24:28.589378293Z",
     "start_time": "2023-09-19T07:24:28.471612852Z"
    }
   },
   "id": "26ac4656d484e45a"
  },
  {
   "cell_type": "code",
   "execution_count": 500,
   "outputs": [
    {
     "ename": "ValueError",
     "evalue": "String or int arguments are only possible when a DataFrame or an array is provided in the `data_frame` argument. No DataFrame was provided, but argument 'color' is of type str or int.",
     "output_type": "error",
     "traceback": [
      "\u001B[0;31m---------------------------------------------------------------------------\u001B[0m",
      "\u001B[0;31mValueError\u001B[0m                                Traceback (most recent call last)",
      "Cell \u001B[0;32mIn[500], line 1\u001B[0m\n\u001B[0;32m----> 1\u001B[0m fig \u001B[38;5;241m=\u001B[39m \u001B[43mpx\u001B[49m\u001B[38;5;241;43m.\u001B[39;49m\u001B[43mbar\u001B[49m\u001B[43m(\u001B[49m\u001B[43my\u001B[49m\u001B[38;5;241;43m=\u001B[39;49m\u001B[43mqq\u001B[49m\u001B[43m[\u001B[49m\u001B[38;5;241;43m1\u001B[39;49m\u001B[43m]\u001B[49m\u001B[43m,\u001B[49m\u001B[43m \u001B[49m\u001B[43mx\u001B[49m\u001B[38;5;241;43m=\u001B[39;49m\u001B[43m[\u001B[49m\u001B[38;5;241;43m1\u001B[39;49m\u001B[43m,\u001B[49m\u001B[38;5;241;43m2\u001B[39;49m\u001B[43m,\u001B[49m\u001B[38;5;241;43m3\u001B[39;49m\u001B[43m,\u001B[49m\u001B[38;5;241;43m4\u001B[39;49m\u001B[43m,\u001B[49m\u001B[38;5;241;43m5\u001B[39;49m\u001B[43m,\u001B[49m\u001B[38;5;241;43m6\u001B[39;49m\u001B[43m,\u001B[49m\u001B[38;5;241;43m7\u001B[39;49m\u001B[43m,\u001B[49m\u001B[38;5;241;43m8\u001B[39;49m\u001B[43m,\u001B[49m\u001B[38;5;241;43m9\u001B[39;49m\u001B[43m,\u001B[49m\u001B[38;5;241;43m10\u001B[39;49m\u001B[43m]\u001B[49m\u001B[43m,\u001B[49m\u001B[43m \u001B[49m\u001B[43mcolor\u001B[49m\u001B[38;5;241;43m=\u001B[39;49m\u001B[38;5;124;43m\"\u001B[39;49m\u001B[38;5;124;43msmoker\u001B[39;49m\u001B[38;5;124;43m\"\u001B[39;49m\u001B[43m)\u001B[49m\n\u001B[1;32m      2\u001B[0m fig\u001B[38;5;241m.\u001B[39mupdate_layout(\n\u001B[1;32m      3\u001B[0m     template\u001B[38;5;241m=\u001B[39m\u001B[38;5;124m'\u001B[39m\u001B[38;5;124mplotly_white\u001B[39m\u001B[38;5;124m'\u001B[39m,\n\u001B[1;32m      4\u001B[0m     margin\u001B[38;5;241m=\u001B[39m{\u001B[38;5;124m'\u001B[39m\u001B[38;5;124mt\u001B[39m\u001B[38;5;124m'\u001B[39m: \u001B[38;5;241m25\u001B[39m, \u001B[38;5;124m'\u001B[39m\u001B[38;5;124mr\u001B[39m\u001B[38;5;124m'\u001B[39m: \u001B[38;5;241m0\u001B[39m, \u001B[38;5;124m'\u001B[39m\u001B[38;5;124ml\u001B[39m\u001B[38;5;124m'\u001B[39m: \u001B[38;5;241m0\u001B[39m, \u001B[38;5;124m'\u001B[39m\u001B[38;5;124mpad\u001B[39m\u001B[38;5;124m'\u001B[39m: \u001B[38;5;241m0\u001B[39m},\n\u001B[1;32m      5\u001B[0m     showlegend\u001B[38;5;241m=\u001B[39m\u001B[38;5;28;01mFalse\u001B[39;00m,\n\u001B[1;32m      6\u001B[0m )\n\u001B[1;32m      7\u001B[0m fig\u001B[38;5;241m.\u001B[39mshow()\n",
      "File \u001B[0;32m~/.local/lib/python3.10/site-packages/plotly/express/_chart_types.py:373\u001B[0m, in \u001B[0;36mbar\u001B[0;34m(data_frame, x, y, color, pattern_shape, facet_row, facet_col, facet_col_wrap, facet_row_spacing, facet_col_spacing, hover_name, hover_data, custom_data, text, base, error_x, error_x_minus, error_y, error_y_minus, animation_frame, animation_group, category_orders, labels, color_discrete_sequence, color_discrete_map, color_continuous_scale, pattern_shape_sequence, pattern_shape_map, range_color, color_continuous_midpoint, opacity, orientation, barmode, log_x, log_y, range_x, range_y, text_auto, title, template, width, height)\u001B[0m\n\u001B[1;32m    325\u001B[0m \u001B[38;5;28;01mdef\u001B[39;00m \u001B[38;5;21mbar\u001B[39m(\n\u001B[1;32m    326\u001B[0m     data_frame\u001B[38;5;241m=\u001B[39m\u001B[38;5;28;01mNone\u001B[39;00m,\n\u001B[1;32m    327\u001B[0m     x\u001B[38;5;241m=\u001B[39m\u001B[38;5;28;01mNone\u001B[39;00m,\n\u001B[0;32m   (...)\u001B[0m\n\u001B[1;32m    367\u001B[0m     height\u001B[38;5;241m=\u001B[39m\u001B[38;5;28;01mNone\u001B[39;00m,\n\u001B[1;32m    368\u001B[0m ) \u001B[38;5;241m-\u001B[39m\u001B[38;5;241m>\u001B[39m go\u001B[38;5;241m.\u001B[39mFigure:\n\u001B[1;32m    369\u001B[0m     \u001B[38;5;124;03m\"\"\"\u001B[39;00m\n\u001B[1;32m    370\u001B[0m \u001B[38;5;124;03m    In a bar plot, each row of `data_frame` is represented as a rectangular\u001B[39;00m\n\u001B[1;32m    371\u001B[0m \u001B[38;5;124;03m    mark.\u001B[39;00m\n\u001B[1;32m    372\u001B[0m \u001B[38;5;124;03m    \"\"\"\u001B[39;00m\n\u001B[0;32m--> 373\u001B[0m     \u001B[38;5;28;01mreturn\u001B[39;00m \u001B[43mmake_figure\u001B[49m\u001B[43m(\u001B[49m\n\u001B[1;32m    374\u001B[0m \u001B[43m        \u001B[49m\u001B[43margs\u001B[49m\u001B[38;5;241;43m=\u001B[39;49m\u001B[38;5;28;43mlocals\u001B[39;49m\u001B[43m(\u001B[49m\u001B[43m)\u001B[49m\u001B[43m,\u001B[49m\n\u001B[1;32m    375\u001B[0m \u001B[43m        \u001B[49m\u001B[43mconstructor\u001B[49m\u001B[38;5;241;43m=\u001B[39;49m\u001B[43mgo\u001B[49m\u001B[38;5;241;43m.\u001B[39;49m\u001B[43mBar\u001B[49m\u001B[43m,\u001B[49m\n\u001B[1;32m    376\u001B[0m \u001B[43m        \u001B[49m\u001B[43mtrace_patch\u001B[49m\u001B[38;5;241;43m=\u001B[39;49m\u001B[38;5;28;43mdict\u001B[39;49m\u001B[43m(\u001B[49m\u001B[43mtextposition\u001B[49m\u001B[38;5;241;43m=\u001B[39;49m\u001B[38;5;124;43m\"\u001B[39;49m\u001B[38;5;124;43mauto\u001B[39;49m\u001B[38;5;124;43m\"\u001B[39;49m\u001B[43m)\u001B[49m\u001B[43m,\u001B[49m\n\u001B[1;32m    377\u001B[0m \u001B[43m        \u001B[49m\u001B[43mlayout_patch\u001B[49m\u001B[38;5;241;43m=\u001B[39;49m\u001B[38;5;28;43mdict\u001B[39;49m\u001B[43m(\u001B[49m\u001B[43mbarmode\u001B[49m\u001B[38;5;241;43m=\u001B[39;49m\u001B[43mbarmode\u001B[49m\u001B[43m)\u001B[49m\u001B[43m,\u001B[49m\n\u001B[1;32m    378\u001B[0m \u001B[43m    \u001B[49m\u001B[43m)\u001B[49m\n",
      "File \u001B[0;32m~/.local/lib/python3.10/site-packages/plotly/express/_core.py:2076\u001B[0m, in \u001B[0;36mmake_figure\u001B[0;34m(args, constructor, trace_patch, layout_patch)\u001B[0m\n\u001B[1;32m   2073\u001B[0m layout_patch \u001B[38;5;241m=\u001B[39m layout_patch \u001B[38;5;129;01mor\u001B[39;00m {}\n\u001B[1;32m   2074\u001B[0m apply_default_cascade(args)\n\u001B[0;32m-> 2076\u001B[0m args \u001B[38;5;241m=\u001B[39m \u001B[43mbuild_dataframe\u001B[49m\u001B[43m(\u001B[49m\u001B[43margs\u001B[49m\u001B[43m,\u001B[49m\u001B[43m \u001B[49m\u001B[43mconstructor\u001B[49m\u001B[43m)\u001B[49m\n\u001B[1;32m   2077\u001B[0m \u001B[38;5;28;01mif\u001B[39;00m constructor \u001B[38;5;129;01min\u001B[39;00m [go\u001B[38;5;241m.\u001B[39mTreemap, go\u001B[38;5;241m.\u001B[39mSunburst, go\u001B[38;5;241m.\u001B[39mIcicle] \u001B[38;5;129;01mand\u001B[39;00m args[\u001B[38;5;124m\"\u001B[39m\u001B[38;5;124mpath\u001B[39m\u001B[38;5;124m\"\u001B[39m] \u001B[38;5;129;01mis\u001B[39;00m \u001B[38;5;129;01mnot\u001B[39;00m \u001B[38;5;28;01mNone\u001B[39;00m:\n\u001B[1;32m   2078\u001B[0m     args \u001B[38;5;241m=\u001B[39m process_dataframe_hierarchy(args)\n",
      "File \u001B[0;32m~/.local/lib/python3.10/site-packages/plotly/express/_core.py:1485\u001B[0m, in \u001B[0;36mbuild_dataframe\u001B[0;34m(args, constructor)\u001B[0m\n\u001B[1;32m   1482\u001B[0m     args[\u001B[38;5;124m\"\u001B[39m\u001B[38;5;124mcolor\u001B[39m\u001B[38;5;124m\"\u001B[39m] \u001B[38;5;241m=\u001B[39m \u001B[38;5;28;01mNone\u001B[39;00m\n\u001B[1;32m   1483\u001B[0m \u001B[38;5;66;03m# now that things have been prepped, we do the systematic rewriting of `args`\u001B[39;00m\n\u001B[0;32m-> 1485\u001B[0m df_output, wide_id_vars \u001B[38;5;241m=\u001B[39m \u001B[43mprocess_args_into_dataframe\u001B[49m\u001B[43m(\u001B[49m\n\u001B[1;32m   1486\u001B[0m \u001B[43m    \u001B[49m\u001B[43margs\u001B[49m\u001B[43m,\u001B[49m\u001B[43m \u001B[49m\u001B[43mwide_mode\u001B[49m\u001B[43m,\u001B[49m\u001B[43m \u001B[49m\u001B[43mvar_name\u001B[49m\u001B[43m,\u001B[49m\u001B[43m \u001B[49m\u001B[43mvalue_name\u001B[49m\n\u001B[1;32m   1487\u001B[0m \u001B[43m\u001B[49m\u001B[43m)\u001B[49m\n\u001B[1;32m   1489\u001B[0m \u001B[38;5;66;03m# now that `df_output` exists and `args` contains only references, we complete\u001B[39;00m\n\u001B[1;32m   1490\u001B[0m \u001B[38;5;66;03m# the special-case and wide-mode handling by further rewriting args and/or mutating\u001B[39;00m\n\u001B[1;32m   1491\u001B[0m \u001B[38;5;66;03m# df_output\u001B[39;00m\n\u001B[1;32m   1493\u001B[0m count_name \u001B[38;5;241m=\u001B[39m _escape_col_name(df_output, \u001B[38;5;124m\"\u001B[39m\u001B[38;5;124mcount\u001B[39m\u001B[38;5;124m\"\u001B[39m, [var_name, value_name])\n",
      "File \u001B[0;32m~/.local/lib/python3.10/site-packages/plotly/express/_core.py:1192\u001B[0m, in \u001B[0;36mprocess_args_into_dataframe\u001B[0;34m(args, wide_mode, var_name, value_name)\u001B[0m\n\u001B[1;32m   1190\u001B[0m     df_output[col_name] \u001B[38;5;241m=\u001B[39m to_unindexed_series(real_argument, col_name)\n\u001B[1;32m   1191\u001B[0m \u001B[38;5;28;01melif\u001B[39;00m \u001B[38;5;129;01mnot\u001B[39;00m df_provided:\n\u001B[0;32m-> 1192\u001B[0m     \u001B[38;5;28;01mraise\u001B[39;00m \u001B[38;5;167;01mValueError\u001B[39;00m(\n\u001B[1;32m   1193\u001B[0m         \u001B[38;5;124m\"\u001B[39m\u001B[38;5;124mString or int arguments are only possible when a \u001B[39m\u001B[38;5;124m\"\u001B[39m\n\u001B[1;32m   1194\u001B[0m         \u001B[38;5;124m\"\u001B[39m\u001B[38;5;124mDataFrame or an array is provided in the `data_frame` \u001B[39m\u001B[38;5;124m\"\u001B[39m\n\u001B[1;32m   1195\u001B[0m         \u001B[38;5;124m\"\u001B[39m\u001B[38;5;124margument. No DataFrame was provided, but argument \u001B[39m\u001B[38;5;124m\"\u001B[39m\n\u001B[1;32m   1196\u001B[0m         \u001B[38;5;124m\"\u001B[39m\u001B[38;5;124m'\u001B[39m\u001B[38;5;132;01m%s\u001B[39;00m\u001B[38;5;124m'\u001B[39m\u001B[38;5;124m is of type str or int.\u001B[39m\u001B[38;5;124m\"\u001B[39m \u001B[38;5;241m%\u001B[39m field\n\u001B[1;32m   1197\u001B[0m     )\n\u001B[1;32m   1198\u001B[0m \u001B[38;5;66;03m# Check validity of column name\u001B[39;00m\n\u001B[1;32m   1199\u001B[0m \u001B[38;5;28;01melif\u001B[39;00m argument \u001B[38;5;129;01mnot\u001B[39;00m \u001B[38;5;129;01min\u001B[39;00m df_input\u001B[38;5;241m.\u001B[39mcolumns:\n",
      "\u001B[0;31mValueError\u001B[0m: String or int arguments are only possible when a DataFrame or an array is provided in the `data_frame` argument. No DataFrame was provided, but argument 'color' is of type str or int."
     ]
    }
   ],
   "source": [
    "fig = px.bar(y=qq[1], x=[1,2,3,4,5,6,7,8,9,10], color=\"smoker\")\n",
    "fig.update_layout(\n",
    "    template='plotly_white',\n",
    "    margin={'t': 25, 'r': 0, 'l': 0, 'pad': 0},\n",
    "    showlegend=False,\n",
    ")\n",
    "fig.show()"
   ],
   "metadata": {
    "collapsed": false,
    "ExecuteTime": {
     "end_time": "2023-09-19T07:27:38.008605269Z",
     "start_time": "2023-09-19T07:27:38.006627765Z"
    }
   },
   "id": "f0e10099798f6855"
  },
  {
   "cell_type": "code",
   "execution_count": null,
   "outputs": [],
   "source": [],
   "metadata": {
    "collapsed": false
   },
   "id": "150b9cb78c767392"
  }
 ],
 "metadata": {
  "kernelspec": {
   "display_name": "Python 3",
   "language": "python",
   "name": "python3"
  },
  "language_info": {
   "codemirror_mode": {
    "name": "ipython",
    "version": 2
   },
   "file_extension": ".py",
   "mimetype": "text/x-python",
   "name": "python",
   "nbconvert_exporter": "python",
   "pygments_lexer": "ipython2",
   "version": "2.7.6"
  }
 },
 "nbformat": 4,
 "nbformat_minor": 5
}
